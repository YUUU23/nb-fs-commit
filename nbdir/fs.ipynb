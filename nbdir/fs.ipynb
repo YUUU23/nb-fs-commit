{
 "cells": [
  {
   "cell_type": "code",
   "execution_count": null,
   "id": "f7ce06f1-9fc3-45fa-b115-c7bdb2bf4af4",
   "metadata": {},
   "outputs": [],
   "source": [
    "path = \"new.txt\""
   ]
  },
  {
   "cell_type": "code",
   "execution_count": 1,
   "id": "b5ce6620-a449-46d4-b2b6-01d86d519e63",
   "metadata": {},
   "outputs": [],
   "source": [
    "text = \"abcdefgh\""
   ]
  },
  {
   "cell_type": "code",
   "execution_count": 2,
   "id": "97038e31-469c-4b7e-9c0c-f6332ad7f3d6",
   "metadata": {},
   "outputs": [],
   "source": [
    "with open(path, 'a') as file:\n",
    "    file.write(text)"
   ]
  },
  {
   "cell_type": "code",
   "execution_count": null,
   "id": "e8d82155-b036-4abc-a0df-58433568d81d",
   "metadata": {},
   "outputs": [],
   "source": [
    "with open(path) as file:\n",
    "    print(file.read())"
   ]
  }
 ],
 "metadata": {
  "kernelspec": {
   "display_name": "Python 3 (ipykernel)",
   "language": "python",
   "name": "python3"
  },
  "language_info": {
   "codemirror_mode": {
    "name": "ipython",
    "version": 3
   },
   "file_extension": ".py",
   "mimetype": "text/x-python",
   "name": "python",
   "nbconvert_exporter": "python",
   "pygments_lexer": "ipython3",
   "version": "3.9.13"
  }
 },
 "nbformat": 4,
 "nbformat_minor": 5
}
